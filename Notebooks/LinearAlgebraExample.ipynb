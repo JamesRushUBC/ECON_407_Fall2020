{
 "cells": [
  {
   "cell_type": "markdown",
   "metadata": {},
   "source": [
    "## Linear Algebra\n",
    "\n",
    "Last update: Sept 15th, 2020\n",
    "\n",
    "Demo for first class."
   ]
  },
  {
   "cell_type": "code",
   "execution_count": 1,
   "metadata": {},
   "outputs": [],
   "source": [
    "import numpy as np\n",
    "\n",
    "x = np.array([1, 2, 3])\n",
    "y = np.array([4, 5, 6])\n",
    "\n",
    "A = np.random.rand(3, 3)\n",
    "B = np.random.rand(3, 5)"
   ]
  },
  {
   "cell_type": "code",
   "execution_count": 4,
   "metadata": {},
   "outputs": [
    {
     "name": "stdout",
     "output_type": "stream",
     "text": [
      "[[0.04107541 0.42537068 0.97933564 0.09782949 0.42058076]\n",
      " [0.3626133  0.09704268 0.67490471 0.05545207 0.54328634]\n",
      " [0.22294954 0.15586483 0.4383283  0.53108622 0.21011585]]\n",
      "[[0.04107541 0.3626133  0.22294954]\n",
      " [0.42537068 0.09704268 0.15586483]\n",
      " [0.97933564 0.67490471 0.4383283 ]\n",
      " [0.09782949 0.05545207 0.53108622]\n",
      " [0.42058076 0.54328634 0.21011585]]\n"
     ]
    }
   ],
   "source": [
    "# Transpose\n",
    "print(B)\n",
    "print(B.transpose())"
   ]
  },
  {
   "cell_type": "code",
   "execution_count": 11,
   "metadata": {},
   "outputs": [
    {
     "name": "stdout",
     "output_type": "stream",
     "text": [
      "[5 7 9]\n",
      "[-3 -3 -3]\n"
     ]
    }
   ],
   "source": [
    "# Addition / Substraction\n",
    "print(x + y)\n",
    "print(x - y)"
   ]
  },
  {
   "cell_type": "code",
   "execution_count": 20,
   "metadata": {},
   "outputs": [
    {
     "data": {
      "text/plain": [
       "array([3.11212873, 1.46021092, 4.14555591])"
      ]
     },
     "execution_count": 20,
     "metadata": {},
     "output_type": "execute_result"
    }
   ],
   "source": [
    "# Multiplication\n",
    "np.dot(A, x)"
   ]
  },
  {
   "cell_type": "code",
   "execution_count": 21,
   "metadata": {},
   "outputs": [
    {
     "name": "stdout",
     "output_type": "stream",
     "text": [
      "3.112128725756909\n"
     ]
    }
   ],
   "source": [
    "res = 0\n",
    "for i in range(3):\n",
    "    res = res + A[0, i] * x[i]\n",
    "print(res)"
   ]
  },
  {
   "cell_type": "code",
   "execution_count": 25,
   "metadata": {},
   "outputs": [
    {
     "data": {
      "text/plain": [
       "array([[0.83226318, 0.83927654, 0.69781026, 0.10176759, 0.38694018],\n",
       "       [1.02246745, 1.13950673, 1.02356013, 0.5332835 , 1.03946706],\n",
       "       [0.04933927, 0.16939824, 0.17710723, 0.22036344, 0.39464019]])"
      ]
     },
     "execution_count": 25,
     "metadata": {},
     "output_type": "execute_result"
    }
   ],
   "source": [
    "np.dot(A, B)"
   ]
  },
  {
   "cell_type": "markdown",
   "metadata": {},
   "source": [
    "Matrix multiplication is not commutative!"
   ]
  },
  {
   "cell_type": "code",
   "execution_count": 5,
   "metadata": {},
   "outputs": [
    {
     "name": "stdout",
     "output_type": "stream",
     "text": [
      "[[-1.2249778   2.19351458]\n",
      " [-0.96738985 -0.3278361 ]]\n",
      "[[-2.77075123 -5.64677545]\n",
      " [ 1.04452127  1.21793734]]\n"
     ]
    }
   ],
   "source": [
    "A = np.random.randn(2, 2)\n",
    "B = np.random.randn(2, 2)\n",
    "\n",
    "print(A @ B)\n",
    "print(B @ A)\n"
   ]
  },
  {
   "cell_type": "code",
   "execution_count": 30,
   "metadata": {},
   "outputs": [
    {
     "data": {
      "text/plain": [
       "array([[-4.54973122e-03, -4.12805865e-02,  1.39859357e+00],\n",
       "       [-5.45866397e+00,  5.00437775e+00, -5.42016641e+00],\n",
       "       [ 1.24291286e+00, -4.82724957e-02,  1.02077334e-03]])"
      ]
     },
     "execution_count": 30,
     "metadata": {},
     "output_type": "execute_result"
    }
   ],
   "source": [
    "# Inverse\n",
    "np.linalg.inv(A)"
   ]
  }
 ],
 "metadata": {
  "kernelspec": {
   "display_name": "Python 3",
   "language": "python",
   "name": "python3"
  },
  "language_info": {
   "codemirror_mode": {
    "name": "ipython",
    "version": 3
   },
   "file_extension": ".py",
   "mimetype": "text/x-python",
   "name": "python",
   "nbconvert_exporter": "python",
   "pygments_lexer": "ipython3",
   "version": "3.7.7"
  }
 },
 "nbformat": 4,
 "nbformat_minor": 4
}
