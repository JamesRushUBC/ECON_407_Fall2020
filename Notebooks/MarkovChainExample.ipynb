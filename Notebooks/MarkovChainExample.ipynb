{
 "cells": [
  {
   "cell_type": "markdown",
   "metadata": {},
   "source": [
    "# Markov Chain from scratch\n",
    "\n",
    "Last update: Sept 22nd, 2020"
   ]
  },
  {
   "cell_type": "code",
   "execution_count": 1,
   "metadata": {},
   "outputs": [],
   "source": [
    "import numpy as np\n",
    "import matplotlib.pyplot as plt\n",
    "%matplotlib inline"
   ]
  },
  {
   "cell_type": "markdown",
   "metadata": {},
   "source": [
    "## Example\n",
    "\n",
    "Consider a worker who, at any given time $ t $, is either unemployed (state 0) or employed (state 1).\n",
    "\n",
    "Suppose that, over a one month period,\n",
    "\n",
    "1. An unemployed worker finds a job with probability $ \\alpha \\in (0, 1) $.  \n",
    "1. An employed worker loses her job and becomes unemployed with probability $ \\beta \\in (0, 1) $.  \n",
    "\n",
    "\n",
    "In terms of a Markov model, we have\n",
    "\n",
    "- $ S = \\{ 0, 1\\} $  \n",
    "- $ P(0, 1) = \\alpha $ and $ P(1, 0) = \\beta $  \n",
    "\n",
    "\n",
    "We can write out the transition probabilities in matrix form as\n",
    "\n",
    "\n",
    "$$\n",
    "P\n",
    "= \\left(\n",
    "\\begin{array}{cc}\n",
    "    1 - \\alpha & \\alpha \\\\\n",
    "    \\beta & 1 - \\beta\n",
    "\\end{array}\n",
    "  \\right)\n",
    "$$\n",
    "\n",
    "We assume $\\alpha = 0.5$ and $\\beta = 0.1$ as an example."
   ]
  },
  {
   "cell_type": "code",
   "execution_count": 2,
   "metadata": {},
   "outputs": [],
   "source": [
    "# An example of Markov matrix construction\n",
    "alpha = 0.5\n",
    "beta = 0.1\n"
   ]
  },
  {
   "cell_type": "code",
   "execution_count": 3,
   "metadata": {},
   "outputs": [],
   "source": [
    "# Construct P\n",
    "P = np.array([[1 - alpha, alpha], [beta, 1 - beta]])"
   ]
  },
  {
   "cell_type": "code",
   "execution_count": 6,
   "metadata": {},
   "outputs": [],
   "source": [
    "# Or, fill in the numbers\n",
    "P = np.zeros((2, 2))\n",
    "P[0, 0] = 1 - alpha\n",
    "P[0, 1] = alpha\n",
    "P[1, 0] = beta\n",
    "P[1, 1] = 1 - beta"
   ]
  },
  {
   "cell_type": "markdown",
   "metadata": {},
   "source": [
    "## Chain Simulation, single agent\n",
    "\n",
    "How do we randomly pick a state that we are going to jump into?\n",
    "1. Generate a uniformly distributed random number U(0, 1)\n",
    "2. Suppose we are at state 0. If this number is greater than $1-\\alpha$ then we are going to jump to state 1. Otherwise, we stay at state 0.\n",
    "\n",
    "Then we iterate forward for T times."
   ]
  },
  {
   "cell_type": "code",
   "execution_count": 18,
   "metadata": {},
   "outputs": [],
   "source": [
    "# One step iteration\n",
    "\n",
    "cur_state = 0\n",
    "cum_prob = np.cumsum(P[cur_state, :])\n",
    "tmp = 0.4\n",
    "next_state = np.searchsorted(cum_prob, tmp)"
   ]
  },
  {
   "cell_type": "code",
   "execution_count": 12,
   "metadata": {},
   "outputs": [
    {
     "data": {
      "text/plain": [
       "array([0.5, 0.5])"
      ]
     },
     "execution_count": 12,
     "metadata": {},
     "output_type": "execute_result"
    }
   ],
   "source": [
    "P[0, :]"
   ]
  },
  {
   "cell_type": "code",
   "execution_count": 16,
   "metadata": {},
   "outputs": [
    {
     "data": {
      "text/plain": [
       "array([0.5, 1. ])"
      ]
     },
     "execution_count": 16,
     "metadata": {},
     "output_type": "execute_result"
    }
   ],
   "source": [
    "cum_prob"
   ]
  },
  {
   "cell_type": "code",
   "execution_count": 19,
   "metadata": {},
   "outputs": [
    {
     "data": {
      "text/plain": [
       "0"
      ]
     },
     "execution_count": 19,
     "metadata": {},
     "output_type": "execute_result"
    }
   ],
   "source": [
    "next_state"
   ]
  },
  {
   "cell_type": "code",
   "execution_count": 13,
   "metadata": {},
   "outputs": [],
   "source": [
    "# Iterate T times\n",
    "T = 1000\n",
    "\n",
    "ini_state = 0 # Starting from state 0 for example\n",
    "res = np.zeros(T, dtype = int) # Initialize the result record\n",
    "res[0] = ini_state\n",
    "prob_draw = np.random.rand(T) # Draw all the probabilities in a row\n",
    "for i in range(T - 1):\n",
    "    cum_prob = np.cumsum(P[res[i], :])\n",
    "    res[i + 1] = np.searchsorted(cum_prob, prob_draw[i])\n"
   ]
  },
  {
   "cell_type": "code",
   "execution_count": 52,
   "metadata": {},
   "outputs": [],
   "source": [
    "# Wrap into a function\n",
    "\n",
    "def Markov_simulation_single(P, ini_state, T):\n",
    "    res = np.zeros(T, dtype = int) # Initialize the result record\n",
    "    res[0] = ini_state\n",
    "    prob_draw = np.random.rand(T) # Draw all the probabilities in a row\n",
    "    for i in range(T - 1):\n",
    "        cum_prob = np.cumsum(P[res[i], :])\n",
    "        res[i + 1] = np.searchsorted(cum_prob, prob_draw[i])\n",
    "        \n",
    "    return res\n",
    "\n",
    "simulation_res = Markov_simulation_single(P, 0, 1000)\n"
   ]
  },
  {
   "cell_type": "code",
   "execution_count": 50,
   "metadata": {},
   "outputs": [],
   "source": [
    "# A bit more optimization\n",
    "def Markov_simulation_single_new(P, ini_state, T):\n",
    "    res = np.zeros(T, dtype = int) # Initialize the result record\n",
    "    res[0] = ini_state\n",
    "    prob_draw = np.random.rand(T) # Draw all the probabilities in a row\n",
    "    cum_prob = np.cumsum(P, axis = 1)\n",
    "    for i in range(T - 1):\n",
    "        res[i + 1] = np.searchsorted(cum_prob[res[i], :], prob_draw[i])\n",
    "        \n",
    "    return res\n",
    "\n",
    "simulation_res = Markov_simulation_single_new(P, 0, 1000)"
   ]
  },
  {
   "cell_type": "markdown",
   "metadata": {},
   "source": [
    "## Chain simulation, distribution\n",
    "\n",
    "The distribution is characterized by a vector. Then the simulation is just vector-matrix multiplication"
   ]
  },
  {
   "cell_type": "code",
   "execution_count": 77,
   "metadata": {},
   "outputs": [],
   "source": [
    "def Markov_simulation_dist(P, ini_dist, T):\n",
    "    n = len(ini_dist)\n",
    "    res = np.zeros((n, T))\n",
    "    res[:, 0] = ini_dist.transpose()\n",
    "    for i in range(T - 1):\n",
    "        res[:, i + 1] = P.transpose() @ res[:, i]\n",
    "        \n",
    "    return res"
   ]
  },
  {
   "cell_type": "code",
   "execution_count": 78,
   "metadata": {},
   "outputs": [],
   "source": [
    "ini_dist = np.array([0.5, 0.5])\n",
    "res = Markov_simulation_dist(P, ini_dist, 100)"
   ]
  },
  {
   "cell_type": "code",
   "execution_count": null,
   "metadata": {},
   "outputs": [],
   "source": []
  }
 ],
 "metadata": {
  "kernelspec": {
   "display_name": "Python 3",
   "language": "python",
   "name": "python3"
  },
  "language_info": {
   "codemirror_mode": {
    "name": "ipython",
    "version": 3
   },
   "file_extension": ".py",
   "mimetype": "text/x-python",
   "name": "python",
   "nbconvert_exporter": "python",
   "pygments_lexer": "ipython3",
   "version": "3.7.7"
  }
 },
 "nbformat": 4,
 "nbformat_minor": 4
}
