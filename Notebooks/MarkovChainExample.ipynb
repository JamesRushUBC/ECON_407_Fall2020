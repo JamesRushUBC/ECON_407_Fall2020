{
 "cells": [
  {
   "cell_type": "markdown",
   "metadata": {},
   "source": [
    "# Markov Chain from scratch\n",
    "\n",
    "Last update: Sept 24th, 2020"
   ]
  },
  {
   "cell_type": "code",
   "execution_count": 3,
   "metadata": {},
   "outputs": [],
   "source": [
    "import numpy as np\n",
    "import matplotlib.pyplot as plt\n",
    "%matplotlib inline"
   ]
  },
  {
   "cell_type": "markdown",
   "metadata": {},
   "source": [
    "## Example\n",
    "\n",
    "Consider a worker who, at any given time $ t $, is either unemployed (state 0) or employed (state 1).\n",
    "\n",
    "Suppose that, over a one month period,\n",
    "\n",
    "1. An unemployed worker finds a job with probability $ \\alpha \\in (0, 1) $.  \n",
    "1. An employed worker loses her job and becomes unemployed with probability $ \\beta \\in (0, 1) $.  \n",
    "\n",
    "\n",
    "In terms of a Markov model, we have\n",
    "\n",
    "- $ S = \\{ 0, 1\\} $  \n",
    "- $ P(0, 1) = \\alpha $ and $ P(1, 0) = \\beta $  \n",
    "\n",
    "\n",
    "We can write out the transition probabilities in matrix form as\n",
    "\n",
    "\n",
    "$$\n",
    "P\n",
    "= \\left(\n",
    "\\begin{array}{cc}\n",
    "    1 - \\alpha & \\alpha \\\\\n",
    "    \\beta & 1 - \\beta\n",
    "\\end{array}\n",
    "  \\right)\n",
    "$$\n",
    "\n",
    "We assume $\\alpha = 0.5$ and $\\beta = 0.1$ as an example."
   ]
  },
  {
   "cell_type": "code",
   "execution_count": 82,
   "metadata": {},
   "outputs": [],
   "source": [
    "# An example of Markov matrix construction\n",
    "alpha = 0.5\n",
    "beta = 0.1\n"
   ]
  },
  {
   "cell_type": "code",
   "execution_count": 83,
   "metadata": {},
   "outputs": [],
   "source": [
    "# Construct P\n",
    "P = np.array([[1 - alpha, alpha], [beta, 1 - beta]])"
   ]
  },
  {
   "cell_type": "code",
   "execution_count": 84,
   "metadata": {},
   "outputs": [],
   "source": [
    "# Or, fill in the numbers\n",
    "P = np.zeros((2, 2))\n",
    "P[0, 0] = 1 - alpha\n",
    "P[0, 1] = alpha\n",
    "P[1, 0] = beta\n",
    "P[1, 1] = 1 - beta"
   ]
  },
  {
   "cell_type": "code",
   "execution_count": 85,
   "metadata": {},
   "outputs": [
    {
     "data": {
      "text/plain": [
       "array([[0.5, 0.5],\n",
       "       [0.1, 0.9]])"
      ]
     },
     "execution_count": 85,
     "metadata": {},
     "output_type": "execute_result"
    }
   ],
   "source": [
    "P"
   ]
  },
  {
   "cell_type": "markdown",
   "metadata": {},
   "source": [
    "## Chain Simulation, single agent\n",
    "\n",
    "How do we randomly pick a state that we are going to jump into?\n",
    "1. Generate a uniformly distributed random number U(0, 1)\n",
    "2. Suppose we are at state 0. If this number is greater than $1-\\alpha$ then we are going to jump to state 1. Otherwise, we stay at state 0.\n",
    "\n",
    "Then we iterate forward for T times."
   ]
  },
  {
   "cell_type": "code",
   "execution_count": 7,
   "metadata": {},
   "outputs": [],
   "source": [
    "# One step iteration\n",
    "\n",
    "cur_state = 0\n",
    "cum_prob = np.cumsum(P[cur_state, :])\n",
    "tmp = 0.4\n",
    "next_state = np.searchsorted(cum_prob, tmp)"
   ]
  },
  {
   "cell_type": "code",
   "execution_count": 8,
   "metadata": {},
   "outputs": [
    {
     "data": {
      "text/plain": [
       "array([0.5, 0.5])"
      ]
     },
     "execution_count": 8,
     "metadata": {},
     "output_type": "execute_result"
    }
   ],
   "source": [
    "P[0, :]"
   ]
  },
  {
   "cell_type": "code",
   "execution_count": 9,
   "metadata": {},
   "outputs": [
    {
     "data": {
      "text/plain": [
       "array([0.5, 1. ])"
      ]
     },
     "execution_count": 9,
     "metadata": {},
     "output_type": "execute_result"
    }
   ],
   "source": [
    "cum_prob"
   ]
  },
  {
   "cell_type": "code",
   "execution_count": 10,
   "metadata": {},
   "outputs": [
    {
     "data": {
      "text/plain": [
       "0"
      ]
     },
     "execution_count": 10,
     "metadata": {},
     "output_type": "execute_result"
    }
   ],
   "source": [
    "next_state"
   ]
  },
  {
   "cell_type": "code",
   "execution_count": 11,
   "metadata": {},
   "outputs": [],
   "source": [
    "# Iterate T times\n",
    "T = 1000\n",
    "\n",
    "ini_state = 0 # Starting from state 0 for example\n",
    "res = np.zeros(T, dtype = int) # Initialize the result record\n",
    "res[0] = ini_state\n",
    "prob_draw = np.random.rand(T) # Draw all the probabilities in a row\n",
    "for i in range(T - 1):\n",
    "    cum_prob = np.cumsum(P[res[i], :])\n",
    "    res[i + 1] = np.searchsorted(cum_prob, prob_draw[i])\n"
   ]
  },
  {
   "cell_type": "code",
   "execution_count": 12,
   "metadata": {},
   "outputs": [],
   "source": [
    "# Wrap into a function\n",
    "\n",
    "def Markov_simulation_single(P, ini_state, T):\n",
    "    res = np.zeros(T, dtype = int) # Initialize the result record\n",
    "    res[0] = ini_state\n",
    "    prob_draw = np.random.rand(T) # Draw all the probabilities in a row\n",
    "    for i in range(T - 1):\n",
    "        cum_prob = np.cumsum(P[res[i], :])\n",
    "        res[i + 1] = np.searchsorted(cum_prob, prob_draw[i])\n",
    "        \n",
    "    return res\n",
    "\n",
    "simulation_res = Markov_simulation_single(P, 0, 1000)\n"
   ]
  },
  {
   "cell_type": "code",
   "execution_count": 13,
   "metadata": {},
   "outputs": [],
   "source": [
    "# A bit more optimization\n",
    "def Markov_simulation_single_new(P, ini_state, T):\n",
    "    res = np.zeros(T, dtype = int) # Initialize the result record\n",
    "    res[0] = ini_state\n",
    "    prob_draw = np.random.rand(T) # Draw all the probabilities in a row\n",
    "    cum_prob = np.cumsum(P, axis = 1)\n",
    "    for i in range(T - 1):\n",
    "        res[i + 1] = np.searchsorted(cum_prob[res[i], :], prob_draw[i])\n",
    "        \n",
    "    return res\n",
    "\n",
    "simulation_res = Markov_simulation_single_new(P, 0, 1000)"
   ]
  },
  {
   "cell_type": "markdown",
   "metadata": {},
   "source": [
    "## Chain simulation, distribution\n",
    "\n",
    "The distribution is characterized by a vector. Then the simulation is just vector-matrix multiplication"
   ]
  },
  {
   "cell_type": "code",
   "execution_count": 87,
   "metadata": {},
   "outputs": [],
   "source": [
    "def Markov_simulation_dist(P, ini_dist, T):\n",
    "    n = len(ini_dist)\n",
    "    res = np.zeros((T, n)) # initialize the result\n",
    "    res[0, :] = ini_dist # starting point\n",
    "    for i in range(T - 1):\n",
    "        res[i + 1, :] = res[i, :] @ P\n",
    "        \n",
    "    return res"
   ]
  },
  {
   "cell_type": "code",
   "execution_count": 116,
   "metadata": {},
   "outputs": [],
   "source": [
    "ini_dist = np.array([0.7, 0.3])\n",
    "T = 1000\n",
    "res = Markov_simulation_dist(P, ini_dist, T)"
   ]
  },
  {
   "cell_type": "code",
   "execution_count": 117,
   "metadata": {},
   "outputs": [
    {
     "data": {
      "text/plain": [
       "array([0.16666667, 0.83333333])"
      ]
     },
     "execution_count": 117,
     "metadata": {},
     "output_type": "execute_result"
    }
   ],
   "source": [
    "res[T - 1, :]"
   ]
  },
  {
   "cell_type": "code",
   "execution_count": 113,
   "metadata": {},
   "outputs": [
    {
     "data": {
      "image/png": "[encoded data removed]",
      "text/plain": [
       "<Figure size 720x432 with 1 Axes>"
      ]
     },
     "metadata": {
      "needs_background": "light"
     },
     "output_type": "display_data"
    }
   ],
   "source": [
    "plt.figure(figsize = (10, 6))\n",
    "plt.plot(res[:, 0], label = \"State 0\")\n",
    "plt.plot(res[:, 1], label = \"State 1\")\n",
    "plt.legend(loc = \"best\", fontsize = \"large\")\n",
    "plt.show()"
   ]
  },
  {
   "cell_type": "markdown",
   "metadata": {},
   "source": [
    "## Irreducibility Check\n",
    "\n",
    "To check whether a Markov matrix is irreducible, we check whether $Q = (I + Z)^{n-1}$ has all positive elements where $n$ is the number of the states and $Z$ is a zero-pattern matrix of $P$."
   ]
  },
  {
   "cell_type": "code",
   "execution_count": 53,
   "metadata": {},
   "outputs": [
    {
     "data": {
      "text/plain": [
       "True"
      ]
     },
     "execution_count": 53,
     "metadata": {},
     "output_type": "execute_result"
    }
   ],
   "source": [
    "# Irreducible or not?\n",
    "n = np.shape(P)\n",
    "Z = P > 0\n",
    "Q = np.identity(n[0])\n",
    "for i in range(n[0] - 1):\n",
    "    Q = Q @ (np.identity(n[0]) + Z)\n",
    "\n",
    "np.all(Q > 0)"
   ]
  },
  {
   "cell_type": "markdown",
   "metadata": {},
   "source": [
    "## Aperiodic Matrix Example"
   ]
  },
  {
   "cell_type": "code",
   "execution_count": 118,
   "metadata": {},
   "outputs": [
    {
     "name": "stdout",
     "output_type": "stream",
     "text": [
      "[[0 1 0]\n",
      " [0 0 1]\n",
      " [1 0 0]]\n",
      "[[0 0 1]\n",
      " [1 0 0]\n",
      " [0 1 0]]\n",
      "[[1 0 0]\n",
      " [0 1 0]\n",
      " [0 0 1]]\n"
     ]
    }
   ],
   "source": [
    "P_periodic = np.array([[0, 1, 0], [0, 0, 1], [1, 0, 0]])\n",
    "Trans = P_periodic\n",
    "for i in range(3):\n",
    "    print(Trans)\n",
    "    Trans = Trans @ P_periodic # becomes identity matrix after 3 periods"
   ]
  },
  {
   "cell_type": "code",
   "execution_count": 121,
   "metadata": {},
   "outputs": [],
   "source": [
    "ini_dist = np.array([0.2, 0.3, 0.5])\n",
    "T = 10\n",
    "res = Markov_simulation_dist(P_periodic, ini_dist, T)"
   ]
  },
  {
   "cell_type": "code",
   "execution_count": 122,
   "metadata": {},
   "outputs": [
    {
     "data": {
      "text/plain": [
       "[<matplotlib.lines.Line2D at 0x1e973476fc8>,\n",
       " <matplotlib.lines.Line2D at 0x1e973489208>,\n",
       " <matplotlib.lines.Line2D at 0x1e9734893c8>]"
      ]
     },
     "execution_count": 122,
     "metadata": {},
     "output_type": "execute_result"
    },
    {
     "data": {
      "image/png": "[encoded data removed]",
      "text/plain": [
       "<Figure size 432x288 with 1 Axes>"
      ]
     },
     "metadata": {
      "needs_background": "light"
     },
     "output_type": "display_data"
    }
   ],
   "source": [
    "plt.plot(res)"
   ]
  },
  {
   "cell_type": "markdown",
   "metadata": {},
   "source": [
    "## Compute Stationary Distribution"
   ]
  },
  {
   "cell_type": "code",
   "execution_count": 66,
   "metadata": {},
   "outputs": [],
   "source": [
    "n = np.shape(P)\n",
    "w, v = np.linalg.eig(P.T)"
   ]
  },
  {
   "cell_type": "code",
   "execution_count": 67,
   "metadata": {},
   "outputs": [
    {
     "data": {
      "text/plain": [
       "array([0.4, 1. ])"
      ]
     },
     "execution_count": 67,
     "metadata": {},
     "output_type": "execute_result"
    }
   ],
   "source": [
    "w"
   ]
  },
  {
   "cell_type": "code",
   "execution_count": 68,
   "metadata": {},
   "outputs": [
    {
     "data": {
      "text/plain": [
       "array([[-0.70710678, -0.19611614],\n",
       "       [ 0.70710678, -0.98058068]])"
      ]
     },
     "execution_count": 68,
     "metadata": {},
     "output_type": "execute_result"
    }
   ],
   "source": [
    "v"
   ]
  },
  {
   "cell_type": "code",
   "execution_count": 77,
   "metadata": {},
   "outputs": [],
   "source": [
    "tmp = v[:, np.isclose(w, 1)][:, 0]\n",
    "sta_dist = tmp / np.sum(tmp)"
   ]
  },
  {
   "cell_type": "code",
   "execution_count": 81,
   "metadata": {},
   "outputs": [
    {
     "data": {
      "text/plain": [
       "array([0.16666667, 0.83333333])"
      ]
     },
     "execution_count": 81,
     "metadata": {},
     "output_type": "execute_result"
    }
   ],
   "source": [
    "sta_dist"
   ]
  }
 ],
 "metadata": {
  "kernelspec": {
   "display_name": "Python 3",
   "language": "python",
   "name": "python3"
  },
  "language_info": {
   "codemirror_mode": {
    "name": "ipython",
    "version": 3
   },
   "file_extension": ".py",
   "mimetype": "text/x-python",
   "name": "python",
   "nbconvert_exporter": "python",
   "pygments_lexer": "ipython3",
   "version": "3.7.7"
  }
 },
 "nbformat": 4,
 "nbformat_minor": 4
}
